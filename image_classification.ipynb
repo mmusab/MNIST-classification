{
  "nbformat": 4,
  "nbformat_minor": 0,
  "metadata": {
    "colab": {
      "name": "image-classification.ipynb",
      "provenance": [],
      "include_colab_link": true
    },
    "kernelspec": {
      "name": "python3",
      "display_name": "Python 3"
    },
    "accelerator": "GPU"
  },
  "cells": [
    {
      "cell_type": "markdown",
      "metadata": {
        "id": "view-in-github",
        "colab_type": "text"
      },
      "source": [
        "<a href=\"https://colab.research.google.com/github/mmusab/MNIST-classification/blob/master/image_classification.ipynb\" target=\"_parent\"><img src=\"https://colab.research.google.com/assets/colab-badge.svg\" alt=\"Open In Colab\"/></a>"
      ]
    },
    {
      "cell_type": "code",
      "metadata": {
        "id": "eOhYz7Q7C_TV",
        "colab_type": "code",
        "cellView": "code",
        "colab": {
          "base_uri": "https://localhost:8080/",
          "height": 700
        },
        "outputId": "35238360-30b8-4566-ecbc-5014e2791d24"
      },
      "source": [
        "import tensorflow as tf\n",
        "import numpy as np\n",
        "from tensorboardcolab import * \n",
        "from google.colab.patches import cv2_imshow\n",
        "# loading data\n",
        "\n",
        "# from tensorflow.examples.tutorials.mnist import input_data\n",
        "\n",
        "((train_data,train_labels),(eval_data,eval_labels)) = tf.keras.datasets.mnist.load_data()\n",
        "train_data = train_data/np.float32(255)\n",
        "train_labels = train_labels.astype(np.int32)\n",
        "X = tf.placeholder(\"float\")/np.float32(255)\n",
        "Y = tf.placeholder(\"int32\")\n",
        "x = np.array_split(train_data,len(train_data)/10000)\n",
        "y = np.array_split(train_labels,len(train_labels)/10000)\n",
        "#..................... making model ...................\n",
        "# input layer\n",
        "input_layer = tf.reshape(X,[-1, 28, 28, 1])\n",
        "\n",
        "# 1st convolution layer\n",
        "conv1 = tf.layers.conv2d(inputs=input_layer, filters=32, kernel_size=5, padding=\"same\", activation=tf.nn.relu)\n",
        "\n",
        "# 1st pooling layer\n",
        "pool1 = tf.layers.max_pooling2d(inputs=conv1, pool_size=2, strides=2)\n",
        "\n",
        "# 2nd convolution layer\n",
        "conv2 = tf.layers.conv2d(inputs=pool1, filters=64, kernel_size=5, padding=\"same\", activation=tf.nn.relu)\n",
        "\n",
        "# 2nd pooling layer\n",
        "pool2 = tf.layers.max_pooling2d(inputs=conv2, pool_size=2, strides=2)\n",
        "\n",
        "pool2_flat = tf.reshape(pool2,[-1, 7*7*64])\n",
        "\n",
        "# dense layer\n",
        "dense = tf.layers.dense(inputs=pool2_flat, units=1024, activation=tf.nn.relu)\n",
        "\n",
        "# logit layer\n",
        "logit = tf.layers.dense(inputs=dense, units=10)\n",
        "\n",
        "# loss function\n",
        "loss = tf.losses.sparse_softmax_cross_entropy(labels=Y, logits=logit )\n",
        "\n",
        "# optimization\n",
        "optimizer = tf.train.GradientDescentOptimizer(learning_rate=0.01)\n",
        "training = optimizer.minimize(loss)\n",
        "\n",
        "\n",
        "model = tf.global_variables_initializer()\n",
        "saver = tf.train.Saver()\n",
        "\n",
        "#session to run code\n",
        "with tf.Session() as sess:\n",
        "    writer = tf.summary.FileWriter(\"./check3\", sess.graph)\n",
        "    sess.run(model)\n",
        "    for i in range(20):\n",
        "        print ('EPOCH')\n",
        "        for ii in range(len(x)):\n",
        "            sess.run(training, feed_dict={X:x[ii], Y:y[ii]})\n",
        "    save_path = saver.save(sess, \"./check3/model.ckpt\")\n",
        "    writer.close()\n",
        "with tf.Session() as sess1:\n",
        "    saver.restore(sess1, save_path)\n",
        "    prediction = logit.eval(feed_dict={X: eval_data[0:5]})\n",
        "\n"
      ],
      "execution_count": 1,
      "outputs": [
        {
          "output_type": "stream",
          "text": [
            "Using TensorFlow backend.\n"
          ],
          "name": "stderr"
        },
        {
          "output_type": "stream",
          "text": [
            "Downloading data from https://storage.googleapis.com/tensorflow/tf-keras-datasets/mnist.npz\n",
            "11493376/11490434 [==============================] - 0s 0us/step\n",
            "WARNING:tensorflow:From <ipython-input-1-4c2f7d8ccdaa>:21: conv2d (from tensorflow.python.layers.convolutional) is deprecated and will be removed in a future version.\n",
            "Instructions for updating:\n",
            "Use `tf.keras.layers.Conv2D` instead.\n",
            "WARNING:tensorflow:From /usr/local/lib/python3.6/dist-packages/tensorflow_core/python/layers/convolutional.py:424: Layer.apply (from tensorflow.python.keras.engine.base_layer) is deprecated and will be removed in a future version.\n",
            "Instructions for updating:\n",
            "Please use `layer.__call__` method instead.\n",
            "WARNING:tensorflow:From <ipython-input-1-4c2f7d8ccdaa>:24: max_pooling2d (from tensorflow.python.layers.pooling) is deprecated and will be removed in a future version.\n",
            "Instructions for updating:\n",
            "Use keras.layers.MaxPooling2D instead.\n",
            "WARNING:tensorflow:From <ipython-input-1-4c2f7d8ccdaa>:35: dense (from tensorflow.python.layers.core) is deprecated and will be removed in a future version.\n",
            "Instructions for updating:\n",
            "Use keras.layers.Dense instead.\n",
            "WARNING:tensorflow:From /usr/local/lib/python3.6/dist-packages/tensorflow_core/python/ops/losses/losses_impl.py:121: where (from tensorflow.python.ops.array_ops) is deprecated and will be removed in a future version.\n",
            "Instructions for updating:\n",
            "Use tf.where in 2.0, which has the same broadcast rule as np.where\n",
            "EPOCH\n",
            "EPOCH\n",
            "EPOCH\n",
            "EPOCH\n",
            "EPOCH\n",
            "EPOCH\n",
            "EPOCH\n",
            "EPOCH\n",
            "EPOCH\n",
            "EPOCH\n",
            "EPOCH\n",
            "EPOCH\n",
            "EPOCH\n",
            "EPOCH\n",
            "EPOCH\n",
            "EPOCH\n",
            "EPOCH\n",
            "EPOCH\n",
            "EPOCH\n",
            "EPOCH\n",
            "INFO:tensorflow:Restoring parameters from ./check3/model.ckpt\n"
          ],
          "name": "stdout"
        }
      ]
    },
    {
      "cell_type": "code",
      "metadata": {
        "id": "0LrbnXeD2XdM",
        "colab_type": "code",
        "colab": {
          "base_uri": "https://localhost:8080/",
          "height": 331
        },
        "outputId": "b7988fb3-e28c-46b5-de5e-61b31f061981"
      },
      "source": [
        "import skimage\n",
        "X = tf.placeholder(\"float\")\n",
        "softmax = tf.nn.softmax(X)\n",
        "w=2\n",
        "with tf.Session():\n",
        "  out = softmax.eval(feed_dict={X:prediction})\n",
        "print (np.argmax(out[w]))\n",
        "skimage.io.imshow(eval_data[w])"
      ],
      "execution_count": 4,
      "outputs": [
        {
          "output_type": "stream",
          "text": [
            "1\n"
          ],
          "name": "stdout"
        },
        {
          "output_type": "execute_result",
          "data": {
            "text/plain": [
              "<matplotlib.image.AxesImage at 0x7ff8580f6a58>"
            ]
          },
          "metadata": {
            "tags": []
          },
          "execution_count": 4
        },
        {
          "output_type": "display_data",
          "data": {
            "image/png": "[encoded data removed]",
            "text/plain": [
              "<Figure size 432x288 with 1 Axes>"
            ]
          },
          "metadata": {
            "tags": []
          }
        }
      ]
    }
  ]
}